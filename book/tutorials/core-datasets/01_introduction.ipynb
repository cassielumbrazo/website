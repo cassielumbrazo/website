{
 "cells": [
  {
   "cell_type": "markdown",
   "id": "agreed-editing",
   "metadata": {},
   "source": [
    "# SnowEx Mission and Core Data Sets\n",
    "\n",
    "<img src=\"images/cover.png\">\n",
    "\n",
    "Tutorial objectives: \n",
    "- Provide contextual background for the NASA SnowEx Mission\n",
    "- Distinguish the different components of the core data\n",
    "- Describe the sampling design and naming convention\n",
    "- Extract data of interest using the Database\n",
    "- Manipulate and plot data for data analysis and calibration/validation purposes"
   ]
  },
  {
   "cell_type": "markdown",
   "id": "technical-image",
   "metadata": {},
   "source": [
    "## SnowEx Background\n",
    "### What is the Mission of {SnowEx}'GRD'?\n",
    "\n",
    "SnowEx is a multi-year program initiated and funded by NASA Terrestrial Hydrology Program to address the most important gaps in snow remote sensing knowledge. It focuses on airborne campaigns and field work, and on comparing the various sensing technologies, from the mature to the more experimental, in globally-representative types of snow. The goal is to address the most important gaps in our snow remote sensing knowledge, and thus lay the groundwork for a future snow satellite mission.\n",
    "\n",
    "*Add THP road map image here*\n",
    "\n",
    "### Where has SnowEx been? \n",
    "*Add Western US map*\n",
    "SnowEx ground observations\n",
    "lables are:\n",
    "2017 - IOP: Grand Mesa, CO\n",
    "2020 - IOP: Grand Mesa, CO\n",
    "     -  TS: List of sites\n",
    "2021 -  TS: List of sites\n",
    "\n",
    "### What are the core data sets and what makes them different from other data?\n",
    "\n",
    "The core data sets are standarized manual ground observations collected by SnowEx participants. These observations provide a legacy data set for the purposes of calibration and validation efforts for the remote sensing instruments. \n",
    "\n",
    "\n",
    "<img src=\"images/pits_and_depths.png\" style=\"width: 700px;\"/>>\n",
    "\n"
   ]
  },
  {
   "cell_type": "markdown",
   "id": "transsexual-earth",
   "metadata": {},
   "source": [
    " <table id=\"t01\">\n",
    "  <tr>\n",
    "    <th>Core Data Sets</th>\n",
    "    <th>Parameters Available</th>\n",
    "    <th>Instruments</th>\n",
    "    <th>NSIDC DOI</th>\n",
    "    </tr>\n",
    "  <tr>\n",
    "    <td>Snow Pits</td>\n",
    "    <td>Depth, Density, Temp., LWC, Stratigraphy,<br>Grain Size, Wetness, SWE</td>\n",
    "    <td>Standard pit kit</td>\n",
    "    <td>SNEX17_SnowPits_GMIOP: https://nsidc.org/data/SNEX17_SnowPits/versions/1<br>SNEX20_SnowPits_GMIOP https://nsidc.org/data/SNEX20_GM_SP/versions/1<tr>\n",
    "  </tr>\n",
    "  <tr>\n",
    "    <td>Depth Transects</td>\n",
    "    <td>Snow Depths - various sampling designs</td>\n",
    "    <td>Depth probes, MagnaProbe, Mesa2</td>\n",
    "    <td>chris's link<td>\n",
    "  </tr>\n",
    "  <tr>\n",
    "    <td>Interval Boards</td>\n",
    "    <td>New snow, SWE</td>\n",
    "    <td>Ruler and spring scale</td>\n",
    "    <td>future publication</td>\n",
    "  </tr>\n",
    "  <tr>\n",
    "    <td>Federal Sampler</td>\n",
    "    <td>SWE</td>\n",
    "    <td>Federal Sampler</td>\n",
    "    <td>future publication<td>\n",
    "  <tr>\n",
    "    <th>Other Data Sets</th>\n",
    "    <th>Parameters Available</th>\n",
    "    <th>Instruments</th>\n",
    "    <th>NSIDC DOI</th>\n",
    "    </tr>\n",
    " \n",
    "</table> "
   ]
  },
  {
   "cell_type": "markdown",
   "id": "necessary-orbit",
   "metadata": {},
   "source": [
    "### What is a snow pit?\n",
    "A snow pit is a vertical profile of snow from the surface to the ground. This is where we collect a suite of ground observations that aid instrument and model development. \n",
    "\n",
    "### What data are assoicated with a snow pit? \n",
    "*Photos of measurements taking place*\n",
    "- depth\n",
    "- density\n",
    "- etc...\n",
    "\n",
    "### How are data collected? \n",
    "*raw pit book image here*\n",
    "\n",
    "### What format are the data in?\n",
    "*slide of \"data package\" image here*\n"
   ]
  },
  {
   "cell_type": "markdown",
   "id": "outdoor-times",
   "metadata": {},
   "source": [
    "### What are depth transects? or simply depths\n",
    "These are point meausurements that tell you how deep the snow is at georeferenced locations. There are several instruments available to capture snow depth, some of which are an avalanche probe, MagnaProbe, or Mesa2.   \n"
   ]
  },
  {
   "cell_type": "markdown",
   "id": "parliamentary-nature",
   "metadata": {},
   "source": [
    "### How do I go about accessing data??\n",
    "See tutorials: \n",
    "    SQL database, (Micah Johnson)\n",
    "    Earth Data, (Amy at NSIDC)"
   ]
  },
  {
   "cell_type": "code",
   "execution_count": null,
   "id": "hired-perfume",
   "metadata": {},
   "outputs": [],
   "source": [
    "# show table of all 150+ snowpits --> pit-ID's, lat/lon, datetime, etc."
   ]
  },
  {
   "cell_type": "code",
   "execution_count": null,
   "id": "consecutive-graphic",
   "metadata": {},
   "outputs": [],
   "source": [
    "# image of pit/veg matrix and flight lines (use C.Hiemstra's image or maybe Micah has something in the db?)"
   ]
  },
  {
   "cell_type": "markdown",
   "id": "adolescent-jacket",
   "metadata": {},
   "source": [
    "### What are some resouces I can use to know more about the available and antipicated data sets? \n",
    "[link some resources here (ex. map of time series locations and sites codes)]\n",
    "\n",
    "Database Structure: https://snowexsql.readthedocs.io/en/latest/database_structure.html#sites-table"
   ]
  },
  {
   "cell_type": "markdown",
   "id": "secret-nutrition",
   "metadata": {},
   "source": [
    "## structure "
   ]
  },
  {
   "cell_type": "code",
   "execution_count": null,
   "id": "utility-thumbnail",
   "metadata": {},
   "outputs": [],
   "source": [
    "# show NSIDC download files (show csv outputs...)"
   ]
  },
  {
   "cell_type": "markdown",
   "id": "ignored-access",
   "metadata": {},
   "source": [
    "(most of everything below here is part of the other two notebooks...delete soon)\n",
    "## Tutorial Example\n",
    "\n",
    "As a first stab at working with SnowEx data, let's work with the snow pit *[hyperlink nsidc DOI]* and depth *[hyperlink nsidc DOI]* data from the Grand Mesa 2020 Campaign. "
   ]
  },
  {
   "cell_type": "code",
   "execution_count": null,
   "id": "empirical-university",
   "metadata": {},
   "outputs": [],
   "source": [
    "# come up with some topics to suggest for an interactive demo\n",
    "    # sort pits by dry or wet (use manual wetness)\n",
    "    # find the graupel layer! or other crusts\n",
    "    # sort pits by large or small temp gradients (set a gradient threshold)\n",
    "    # categorize pits by shallow, medium, and deep zones (use the pit ID)"
   ]
  },
  {
   "cell_type": "markdown",
   "id": "actual-intranet",
   "metadata": {},
   "source": [
    "### recap"
   ]
  },
  {
   "cell_type": "code",
   "execution_count": null,
   "id": "ruled-patent",
   "metadata": {},
   "outputs": [],
   "source": []
  },
  {
   "cell_type": "code",
   "execution_count": null,
   "id": "earlier-campbell",
   "metadata": {},
   "outputs": [],
   "source": []
  }
 ],
 "metadata": {
  "kernelspec": {
   "display_name": "Python 3",
   "language": "python",
   "name": "python3"
  },
  "language_info": {
   "codemirror_mode": {
    "name": "ipython",
    "version": 3
   },
   "file_extension": ".py",
   "mimetype": "text/x-python",
   "name": "python",
   "nbconvert_exporter": "python",
   "pygments_lexer": "ipython3",
   "version": "3.8.8"
  }
 },
 "nbformat": 4,
 "nbformat_minor": 5
}
