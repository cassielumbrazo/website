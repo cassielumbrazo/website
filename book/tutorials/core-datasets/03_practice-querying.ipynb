{
 "cells": [
  {
   "cell_type": "code",
   "execution_count": null,
   "id": "blond-congress",
   "metadata": {},
   "outputs": [],
   "source": [
    "# imports\n",
    "from snowexsql.db import get_db\n",
    "from snowexsql.data import SiteData, ImageData, LayerData, PointData\n",
    "from snowexsql.conversions import query_to_geopandas\n",
    "import datetime"
   ]
  },
  {
   "cell_type": "code",
   "execution_count": null,
   "id": "stuck-forward",
   "metadata": {},
   "outputs": [],
   "source": [
    "# load the database\n",
    "db_name = 'snow:hackweek@52.32.183.144/snowex'\n",
    "engine, session = get_db(db_name)\n",
    "print('snowexsql database successfully loaded')"
   ]
  },
  {
   "cell_type": "code",
   "execution_count": null,
   "id": "expected-allah",
   "metadata": {},
   "outputs": [],
   "source": [
    "# Great for debugging especially when trying different queries\n",
    "# session.rollback()"
   ]
  },
  {
   "cell_type": "markdown",
   "id": "outdoor-victor",
   "metadata": {},
   "source": [
    "## Snow Pits --> LayerData & SiteData in the snowexsql database\n",
    "### Example 1: \n",
    "Let's find all the pits that overlap with UAVSAR data\n",
    "\n",
    "1a). Unsure of the fly over date, but know which instrument you'd like to overlap with, here's how:"
   ]
  },
  {
   "cell_type": "code",
   "execution_count": null,
   "id": "lucky-optimum",
   "metadata": {},
   "outputs": [],
   "source": [
    "# Form on the Images table that returns Raster collection dates\n",
    "qry = session.query(ImageData.date)\n",
    "\n",
    "# Filter for UAVSAR data\n",
    "qry = qry.filter(ImageData.surveyors == 'UAVSAR team, JPL')\n",
    "\n",
    "# Grab the unique dates\n",
    "qry = qry.distinct()\n",
    "qry\n",
    "# Execute the query \n",
    "dates = qry.all() \n",
    "\n",
    "# Clean up the dates to remove the tuple\n",
    "dates = [d[0] for d in dates] \n",
    "\n",
    "# Find all the snow pits done on these days and return a geopandas df\n",
    "qry = session.query(SiteData.geom, SiteData.site_id, SiteData.date)\n",
    "qry = qry.filter(SiteData.date.in_(dates))\n",
    "df = query_to_geopandas(qry, engine)\n",
    "df.head()\n",
    "\n",
    "# Close your session to avoid hanging transactions\n",
    "session.close()"
   ]
  },
  {
   "cell_type": "markdown",
   "id": "stuffed-cambridge",
   "metadata": {},
   "source": [
    "1b). Want to select from a range of dates near the fly over date? Here's how:"
   ]
  },
  {
   "cell_type": "code",
   "execution_count": null,
   "id": "efficient-collect",
   "metadata": {},
   "outputs": [],
   "source": [
    "# Pick a day from the list of dates\n",
    "dt = dates[0] \n",
    "\n",
    "# Form a date range to query on either side of our chosen day \n",
    "date_range = [dt + i * datetime.timedelta(days=1) for i in [-1, 0, 1]]\n",
    "\n",
    "# Find all the snow pits done on these days and return a geopandas df\n",
    "qry = session.query(SiteData.geom, SiteData.site_id, SiteData.date)\n",
    "qry = qry.filter(SiteData.date.in_(date_range))\n",
    "df = query_to_geopandas(qry, engine)\n",
    "df"
   ]
  },
  {
   "cell_type": "markdown",
   "id": "careful-blogger",
   "metadata": {},
   "source": [
    "1c). Have a known date in mind that you wish to select, here's how:"
   ]
  },
  {
   "cell_type": "code",
   "execution_count": null,
   "id": "civilian-forum",
   "metadata": {},
   "outputs": [],
   "source": [
    "# Find all the data that was collected on 2-12-2020\n",
    "dt = datetime.date(2020, 2, 12)\n",
    "\n",
    "# Grab all Point data instruments from our date\n",
    "point_instruments = session.query(PointData.instrument).filter(PointData.date == dt).distinct().all()\n",
    "# print('Point Data are: ', point_instruments)\n",
    "\n",
    "# Grab all Layer data instruments from our date\n",
    "layer_instruments = session.query(LayerData.instrument, LayerData.type).filter(LayerData.date == dt).distinct().all()\n",
    "# print(layer_instruments)\n",
    "\n",
    "# Grab all Image data instruments from our date\n",
    "image_instruments = session.query(ImageData.instrument).filter(ImageData.date == dt).distinct().all()\n",
    "# print(image_instruments)\n",
    "\n",
    "qry = session.query(PointData.geom, PointData.instrument, PointData.site_id, PointData.date)\n",
    "qry = qry.filter(PointData.date == dt) \n",
    "df = query_to_geopandas(qry, engine)\n",
    "df"
   ]
  },
  {
   "cell_type": "code",
   "execution_count": null,
   "id": "handed-supplier",
   "metadata": {},
   "outputs": [],
   "source": [
    "dt = datetime.date(2020, 2, 12)\n",
    "dt"
   ]
  },
  {
   "cell_type": "markdown",
   "id": "universal-lucas",
   "metadata": {},
   "source": [
    "### Your turn\n",
    "#### try this: query for a different airborne instrument (hint: airborne lidar--> 'ASO Inc.')"
   ]
  },
  {
   "cell_type": "code",
   "execution_count": null,
   "id": "delayed-transportation",
   "metadata": {},
   "outputs": [],
   "source": [
    "#"
   ]
  },
  {
   "cell_type": "code",
   "execution_count": null,
   "id": "seeing-potential",
   "metadata": {},
   "outputs": [],
   "source": [
    "#RANDOM QUESTIONS/ CODE EXAMPLE BOX\n",
    "qry = session.query(ImageData.surveyors) # can I print a list of surveyor options??\n",
    "surveyors_lst = session.query(ImageData.surveyors).distinct().all()\n",
    "surveyors_lst\n",
    "# qry = session.query(SiteData.site_id, SiteData.date)\n",
    "# qry = qry.filter(SiteData.date.in_(dates))\n",
    "# results = qry.all()"
   ]
  },
  {
   "cell_type": "code",
   "execution_count": null,
   "id": "pacific-brazil",
   "metadata": {},
   "outputs": [],
   "source": []
  },
  {
   "cell_type": "markdown",
   "id": "toxic-controversy",
   "metadata": {},
   "source": [
    "### Example 2: \n",
    "grab all pits based on flight line pattern\n",
    "\n",
    "1). only want to analyize pits from the 'N' flight line?\n",
    "\n",
    "2). what about the 'N' flight line for a 1 week period?"
   ]
  },
  {
   "cell_type": "code",
   "execution_count": null,
   "id": "victorian-cartridge",
   "metadata": {},
   "outputs": [],
   "source": [
    "# Grab density\n",
    "import matplotlib.pyplot as plt \n",
    "\n",
    "session.rollback()\n",
    "\n",
    "q = session.query(LayerData).filter(LayerData.type == 'density').filter(LayerData.site_id.contains('N')).limit(100)\n",
    "df = query_to_geopandas(q, engine)\n",
    "# Convert density to float\n",
    "df['value'] = df['value'].astype(float)\n",
    "\n",
    "df \n",
    "\n",
    "df.plot()\n",
    "plt.show()\n",
    "\n",
    "\n",
    "# Calculate SWE\n",
    "# swe_lambda = lambda row: row['value'] * (row['depth'] - row['bottom_depth']) / 100\n",
    "# df['swe'] = df.apply(swe_lambda, axis=1)"
   ]
  },
  {
   "cell_type": "code",
   "execution_count": null,
   "id": "rocky-father",
   "metadata": {},
   "outputs": [],
   "source": [
    "df"
   ]
  },
  {
   "cell_type": "code",
   "execution_count": null,
   "id": "adjacent-barbados",
   "metadata": {},
   "outputs": [],
   "source": []
  },
  {
   "cell_type": "markdown",
   "id": "demanding-ideal",
   "metadata": {},
   "source": [
    "### Example 3: \n",
    "grab all pits based on the depth and vegetation matrix\n",
    "\n",
    "1). interested in isolating shallow pits? here's how: \n",
    "\n",
    "2). what about pits in dense canopy cover? "
   ]
  },
  {
   "cell_type": "markdown",
   "id": "protective-destination",
   "metadata": {},
   "source": [
    "## Depths\n",
    "### Example 1:\n",
    "There are a lot of different instruments that collected snow depth data. Say you are interested in working with a certain instrument, here's how:"
   ]
  },
  {
   "cell_type": "code",
   "execution_count": null,
   "id": "commercial-straight",
   "metadata": {},
   "outputs": [],
   "source": []
  },
  {
   "cell_type": "code",
   "execution_count": null,
   "id": "plastic-verification",
   "metadata": {},
   "outputs": [],
   "source": []
  }
 ],
 "metadata": {
  "kernelspec": {
   "display_name": "Python 3",
   "language": "python",
   "name": "python3"
  },
  "language_info": {
   "codemirror_mode": {
    "name": "ipython",
    "version": 3
   },
   "file_extension": ".py",
   "mimetype": "text/x-python",
   "name": "python",
   "nbconvert_exporter": "python",
   "pygments_lexer": "ipython3",
   "version": "3.8.8"
  }
 },
 "nbformat": 4,
 "nbformat_minor": 5
}
