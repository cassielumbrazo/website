{
 "cells": [
  {
   "cell_type": "code",
   "execution_count": 1,
   "id": "worldwide-wallpaper",
   "metadata": {},
   "outputs": [],
   "source": [
    "import pandas as pd"
   ]
  },
  {
   "cell_type": "code",
   "execution_count": 2,
   "id": "several-helena",
   "metadata": {},
   "outputs": [],
   "source": [
    "# load snow depth data\n",
    "# %run 'scripts/nsidc-download_SNEX20_SD.001.py'"
   ]
  },
  {
   "cell_type": "code",
   "execution_count": null,
   "id": "thrown-wilderness",
   "metadata": {},
   "outputs": [],
   "source": []
  }
 ],
 "metadata": {
  "kernelspec": {
   "display_name": "Python 3",
   "language": "python",
   "name": "python3"
  },
  "language_info": {
   "codemirror_mode": {
    "name": "ipython",
    "version": 3
   },
   "file_extension": ".py",
   "mimetype": "text/x-python",
   "name": "python",
   "nbconvert_exporter": "python",
   "pygments_lexer": "ipython3",
   "version": "3.8.8"
  }
 },
 "nbformat": 4,
 "nbformat_minor": 5
}
