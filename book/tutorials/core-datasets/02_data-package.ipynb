{
 "cells": [
  {
   "cell_type": "markdown",
   "id": "interior-pioneer",
   "metadata": {},
   "source": [
    "# Data Package"
   ]
  },
  {
   "cell_type": "code",
   "execution_count": null,
   "id": "colored-finance",
   "metadata": {},
   "outputs": [],
   "source": [
    "import pandas as pd"
   ]
  },
  {
   "cell_type": "code",
   "execution_count": null,
   "id": "dirty-conviction",
   "metadata": {},
   "outputs": [],
   "source": [
    "# load snow depth data\n",
    "# %run 'scripts/nsidc-download_SNEX20_SD.001.py'"
   ]
  },
  {
   "cell_type": "code",
   "execution_count": null,
   "id": "finnish-bernard",
   "metadata": {},
   "outputs": [],
   "source": []
  }
 ],
 "metadata": {
  "kernelspec": {
   "display_name": "Python 3",
   "language": "python",
   "name": "python3"
  },
  "language_info": {
   "codemirror_mode": {
    "name": "ipython",
    "version": 3
   },
   "file_extension": ".py",
   "mimetype": "text/x-python",
   "name": "python",
   "nbconvert_exporter": "python",
   "pygments_lexer": "ipython3",
   "version": "3.8.8"
  }
 },
 "nbformat": 4,
 "nbformat_minor": 5
}
