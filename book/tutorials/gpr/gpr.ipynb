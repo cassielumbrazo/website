{
 "cells": [
  {
   "cell_type": "markdown",
   "id": "framed-strength",
   "metadata": {},
   "source": [
    "# SnowEx Hackweek GPR Tutorial\n",
    "\n",
    "In this tutorial we will grab ground-penetrating radar (GPR) two-way travel-time (TWT) and geolocation data, and make a quick plot of the locations."
   ]
  },
  {
   "cell_type": "code",
   "execution_count": null,
   "id": "fatty-operation",
   "metadata": {},
   "outputs": [],
   "source": []
  }
 ],
 "metadata": {
  "kernelspec": {
   "display_name": "Python 3",
   "language": "python",
   "name": "python3"
  },
  "language_info": {
   "codemirror_mode": {
    "name": "ipython",
    "version": 3
   },
   "file_extension": ".py",
   "mimetype": "text/x-python",
   "name": "python",
   "nbconvert_exporter": "python",
   "pygments_lexer": "ipython3",
   "version": "3.8.8"
  }
 },
 "nbformat": 4,
 "nbformat_minor": 5
}
